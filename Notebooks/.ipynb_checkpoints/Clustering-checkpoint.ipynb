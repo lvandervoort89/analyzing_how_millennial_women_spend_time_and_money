{
 "cells": [
  {
   "cell_type": "markdown",
   "metadata": {},
   "source": [
    "# Analyzing how millennial women spend money via Refinery29\n",
    "**Objective**   \n",
    "Analyze how millennial women spend their time and money using NLP. Build a recommender that takes in user input and selects 3 Refinery29 Money Diaries that are similar to the user.  \n",
    "\n",
    "**Data**   \n",
    "This data was scraped from the [Refinery29 Money Diaries](https://refinery29.com/en-us/money-diary) from January 18, 2019-June 3, 2020.\n"
   ]
  },
  {
   "cell_type": "markdown",
   "metadata": {},
   "source": [
    "## **Import packages**"
   ]
  },
  {
   "cell_type": "code",
   "execution_count": 135,
   "metadata": {
    "ExecuteTime": {
     "end_time": "2020-08-20T21:51:56.324907Z",
     "start_time": "2020-08-20T21:51:56.258515Z"
    }
   },
   "outputs": [],
   "source": [
    "import pickle\n",
    "import re\n",
    "import string\n",
    "import operator\n",
    "\n",
    "from collections import OrderedDict\n",
    "\n",
    "import pandas as pd\n",
    "import numpy as np\n",
    "\n",
    "from sklearn.preprocessing import scale\n",
    "from sklearn.preprocessing import StandardScaler\n",
    "from sklearn.utils import shuffle\n",
    "from sklearn.feature_extraction import text \n",
    "from sklearn.feature_extraction.text import CountVectorizer\n",
    "from sklearn.decomposition import TruncatedSVD\n",
    "from sklearn.decomposition import NMF\n",
    "from sklearn.metrics.pairwise import cosine_similarity\n",
    "from sklearn.cluster import KMeans\n",
    "\n",
    "import nltk\n",
    "from nltk.tokenize import word_tokenize\n",
    "\n",
    "from gensim import matutils, models\n",
    "\n",
    "import scipy.sparse\n",
    "\n",
    "import seaborn as sns\n",
    "import matplotlib.pyplot as plt\n",
    "%matplotlib inline"
   ]
  },
  {
   "cell_type": "markdown",
   "metadata": {},
   "source": [
    "## **Load in data**"
   ]
  },
  {
   "cell_type": "code",
   "execution_count": 63,
   "metadata": {
    "ExecuteTime": {
     "end_time": "2020-08-19T01:27:19.853730Z",
     "start_time": "2020-08-19T01:27:19.849462Z"
    }
   },
   "outputs": [],
   "source": [
    "# Load in pickled diarist metadata\n",
    "diarist_df = pickle.load(open(\"diarist_df_updated.pkl\",\"rb\"))"
   ]
  },
  {
   "cell_type": "code",
   "execution_count": 100,
   "metadata": {
    "ExecuteTime": {
     "end_time": "2020-08-19T01:37:14.948113Z",
     "start_time": "2020-08-19T01:37:14.942574Z"
    }
   },
   "outputs": [
    {
     "data": {
      "text/plain": [
       "story_title                  object\n",
       "occupation                   object\n",
       "age                           int64\n",
       "salary                      float64\n",
       "nomad                         int64\n",
       "international                 int64\n",
       "high_cost_of_living_area      int64\n",
       "dtype: object"
      ]
     },
     "execution_count": 100,
     "metadata": {},
     "output_type": "execute_result"
    }
   ],
   "source": [
    "# Check data types\n",
    "diarist_df.dtypes"
   ]
  },
  {
   "cell_type": "code",
   "execution_count": 99,
   "metadata": {
    "ExecuteTime": {
     "end_time": "2020-08-19T01:37:12.560476Z",
     "start_time": "2020-08-19T01:37:12.557008Z"
    }
   },
   "outputs": [],
   "source": [
    "# Convert age to int\n",
    "diarist_df.age = diarist_df.age.apply(int)"
   ]
  },
  {
   "cell_type": "markdown",
   "metadata": {},
   "source": [
    "## **Cluster metadata**"
   ]
  },
  {
   "cell_type": "code",
   "execution_count": 159,
   "metadata": {
    "ExecuteTime": {
     "end_time": "2020-08-23T19:52:14.949960Z",
     "start_time": "2020-08-23T19:52:14.947307Z"
    }
   },
   "outputs": [],
   "source": [
    "# new_observation = np.array([25, 70000])\n",
    "# new_observation_scaled = scaler.transform(new_observation.reshape(1,-1))\n",
    "\n",
    "# new_observation_cluster = kfit.predict(new_observation_scaled)\n",
    "# int(new_observation_cluster)"
   ]
  },
  {
   "cell_type": "code",
   "execution_count": 101,
   "metadata": {
    "ExecuteTime": {
     "end_time": "2020-08-19T01:37:18.123839Z",
     "start_time": "2020-08-19T01:37:18.119553Z"
    }
   },
   "outputs": [],
   "source": [
    "# Drop non-numerical columns\n",
    "# , 'nomad', 'international', 'high_cost_of_living_area'\n",
    "diarist_df_numerical = diarist_df.loc[:,['age', 'salary']]"
   ]
  },
  {
   "cell_type": "code",
   "execution_count": 102,
   "metadata": {
    "ExecuteTime": {
     "end_time": "2020-08-19T01:37:18.521583Z",
     "start_time": "2020-08-19T01:37:18.516418Z"
    }
   },
   "outputs": [],
   "source": [
    "# Scale features\n",
    "scaler = StandardScaler()\n",
    "columns_scaled = scaler.fit_transform(diarist_df_numerical.values)\n",
    "diarist_df_scaled = pd.DataFrame(columns_scaled, columns = diarist_df_numerical.columns)"
   ]
  },
  {
   "cell_type": "code",
   "execution_count": 103,
   "metadata": {
    "ExecuteTime": {
     "end_time": "2020-08-19T01:37:18.940396Z",
     "start_time": "2020-08-19T01:37:18.892427Z"
    }
   },
   "outputs": [],
   "source": [
    "# Modeling\n",
    "kmeans = KMeans(n_clusters=5, random_state=20)\n",
    "kfit = kmeans.fit(diarist_df_scaled)\n",
    "identified_clusters_scaled = kfit.predict(diarist_df_scaled)"
   ]
  },
  {
   "cell_type": "code",
   "execution_count": 148,
   "metadata": {
    "ExecuteTime": {
     "end_time": "2020-08-20T22:03:13.578378Z",
     "start_time": "2020-08-20T22:03:13.568271Z"
    }
   },
   "outputs": [],
   "source": [
    "# # Pickle scaler and k-means model for later use in recommender\n",
    "# with open('scaler.pkl', 'wb') as f:\n",
    "#     pickle.dump(scaler, f)\n",
    "    \n",
    "# with open('kfit.pkl', 'wb') as f:\n",
    "#     pickle.dump(kfit, f)  "
   ]
  },
  {
   "cell_type": "code",
   "execution_count": 104,
   "metadata": {
    "ExecuteTime": {
     "end_time": "2020-08-19T01:37:20.589326Z",
     "start_time": "2020-08-19T01:37:19.417775Z"
    }
   },
   "outputs": [
    {
     "data": {
      "text/plain": [
       "[<matplotlib.lines.Line2D at 0x7f9c9d115640>]"
      ]
     },
     "execution_count": 104,
     "metadata": {},
     "output_type": "execute_result"
    },
    {
     "data": {
      "text/plain": [
       "Text(0.5, 0, 'Number of Clusters')"
      ]
     },
     "execution_count": 104,
     "metadata": {},
     "output_type": "execute_result"
    },
    {
     "data": {
      "text/plain": [
       "Text(0, 0.5, 'Score')"
      ]
     },
     "execution_count": 104,
     "metadata": {},
     "output_type": "execute_result"
    },
    {
     "data": {
      "text/plain": [
       "Text(0.5, 1.0, 'Elbow Method')"
      ]
     },
     "execution_count": 104,
     "metadata": {},
     "output_type": "execute_result"
    },
    {
     "data": {
      "image/png": "[encoded data removed]",
      "text/plain": [
       "<Figure size 432x288 with 1 Axes>"
      ]
     },
     "metadata": {
      "needs_background": "light"
     },
     "output_type": "display_data"
    }
   ],
   "source": [
    "# Determine optimal number of clusters\n",
    "number_clusters = range(1, 20)\n",
    "\n",
    "kmeans = [KMeans(n_clusters=i, max_iter = 600) for i in number_clusters]\n",
    "\n",
    "score = [kmeans[i].fit(diarist_df_scaled).score(diarist_df_scaled) for i in range(len(kmeans))]\n",
    "\n",
    "plt.plot(number_clusters, score)\n",
    "plt.xlabel('Number of Clusters')\n",
    "plt.ylabel('Score')\n",
    "plt.title('Elbow Method')\n",
    "plt.show()"
   ]
  },
  {
   "cell_type": "code",
   "execution_count": 105,
   "metadata": {
    "ExecuteTime": {
     "end_time": "2020-08-19T01:37:30.295492Z",
     "start_time": "2020-08-19T01:37:30.278880Z"
    }
   },
   "outputs": [
    {
     "data": {
      "text/html": [
       "<div>\n",
       "<style scoped>\n",
       "    .dataframe tbody tr th:only-of-type {\n",
       "        vertical-align: middle;\n",
       "    }\n",
       "\n",
       "    .dataframe tbody tr th {\n",
       "        vertical-align: top;\n",
       "    }\n",
       "\n",
       "    .dataframe thead th {\n",
       "        text-align: right;\n",
       "    }\n",
       "</style>\n",
       "<table border=\"1\" class=\"dataframe\">\n",
       "  <thead>\n",
       "    <tr style=\"text-align: right;\">\n",
       "      <th></th>\n",
       "      <th>story_title</th>\n",
       "      <th>occupation</th>\n",
       "      <th>age</th>\n",
       "      <th>salary</th>\n",
       "      <th>nomad</th>\n",
       "      <th>international</th>\n",
       "      <th>high_cost_of_living_area</th>\n",
       "      <th>Cluster</th>\n",
       "    </tr>\n",
       "  </thead>\n",
       "  <tbody>\n",
       "    <tr>\n",
       "      <th>387</th>\n",
       "      <td>/en-us/chicago-creative-director-salary-money-diary</td>\n",
       "      <td>Creative Director</td>\n",
       "      <td>31</td>\n",
       "      <td>87000.0</td>\n",
       "      <td>0</td>\n",
       "      <td>0</td>\n",
       "      <td>1</td>\n",
       "      <td>0</td>\n",
       "    </tr>\n",
       "    <tr>\n",
       "      <th>380</th>\n",
       "      <td>/en-us/claims-investigator-pittsburgh-pa-salary-money-diary</td>\n",
       "      <td>Claims Investigator</td>\n",
       "      <td>27</td>\n",
       "      <td>48000.0</td>\n",
       "      <td>0</td>\n",
       "      <td>0</td>\n",
       "      <td>0</td>\n",
       "      <td>0</td>\n",
       "    </tr>\n",
       "    <tr>\n",
       "      <th>378</th>\n",
       "      <td>/en-us/client-manager-atlanta-ga-salary-money-diary</td>\n",
       "      <td>Client Manager</td>\n",
       "      <td>30</td>\n",
       "      <td>72000.0</td>\n",
       "      <td>0</td>\n",
       "      <td>0</td>\n",
       "      <td>0</td>\n",
       "      <td>0</td>\n",
       "    </tr>\n",
       "    <tr>\n",
       "      <th>377</th>\n",
       "      <td>/en-us/client-solutions-minneapolis-mn-salary-money-diary</td>\n",
       "      <td>Client Solution Specialist</td>\n",
       "      <td>30</td>\n",
       "      <td>80000.0</td>\n",
       "      <td>0</td>\n",
       "      <td>0</td>\n",
       "      <td>0</td>\n",
       "      <td>0</td>\n",
       "    </tr>\n",
       "    <tr>\n",
       "      <th>376</th>\n",
       "      <td>/en-us/clinical-analyst-bethesda-md-salary-money-diary</td>\n",
       "      <td>Analyst</td>\n",
       "      <td>31</td>\n",
       "      <td>110000.0</td>\n",
       "      <td>0</td>\n",
       "      <td>0</td>\n",
       "      <td>0</td>\n",
       "      <td>0</td>\n",
       "    </tr>\n",
       "    <tr>\n",
       "      <th>...</th>\n",
       "      <td>...</td>\n",
       "      <td>...</td>\n",
       "      <td>...</td>\n",
       "      <td>...</td>\n",
       "      <td>...</td>\n",
       "      <td>...</td>\n",
       "      <td>...</td>\n",
       "      <td>...</td>\n",
       "    </tr>\n",
       "    <tr>\n",
       "      <th>242</th>\n",
       "      <td>/en-us/management-consultant-new-york-ny-salary-money-diary</td>\n",
       "      <td>Management Consultant</td>\n",
       "      <td>31</td>\n",
       "      <td>230000.0</td>\n",
       "      <td>0</td>\n",
       "      <td>0</td>\n",
       "      <td>1</td>\n",
       "      <td>4</td>\n",
       "    </tr>\n",
       "    <tr>\n",
       "      <th>84</th>\n",
       "      <td>/en-us/san-francisco-senior-accountant-salary-money-diary</td>\n",
       "      <td>Senior Accountant</td>\n",
       "      <td>30</td>\n",
       "      <td>118000.0</td>\n",
       "      <td>0</td>\n",
       "      <td>0</td>\n",
       "      <td>1</td>\n",
       "      <td>4</td>\n",
       "    </tr>\n",
       "    <tr>\n",
       "      <th>329</th>\n",
       "      <td>/en-us/design-engineer-san-jose-ca-salary-money-diary</td>\n",
       "      <td>Design Engineer</td>\n",
       "      <td>25</td>\n",
       "      <td>135000.0</td>\n",
       "      <td>0</td>\n",
       "      <td>0</td>\n",
       "      <td>1</td>\n",
       "      <td>4</td>\n",
       "    </tr>\n",
       "    <tr>\n",
       "      <th>430</th>\n",
       "      <td>/en-us/attorney-boston-ma-salary-money-diary</td>\n",
       "      <td>Attorney</td>\n",
       "      <td>28</td>\n",
       "      <td>190000.0</td>\n",
       "      <td>0</td>\n",
       "      <td>0</td>\n",
       "      <td>1</td>\n",
       "      <td>4</td>\n",
       "    </tr>\n",
       "    <tr>\n",
       "      <th>288</th>\n",
       "      <td>/en-us/fort-lauderdale-florida-attorney-salary-money-diary</td>\n",
       "      <td>Attorney</td>\n",
       "      <td>31</td>\n",
       "      <td>170000.0</td>\n",
       "      <td>0</td>\n",
       "      <td>0</td>\n",
       "      <td>0</td>\n",
       "      <td>4</td>\n",
       "    </tr>\n",
       "  </tbody>\n",
       "</table>\n",
       "<p>476 rows × 8 columns</p>\n",
       "</div>"
      ],
      "text/plain": [
       "                                                     story_title  \\\n",
       "387          /en-us/chicago-creative-director-salary-money-diary   \n",
       "380  /en-us/claims-investigator-pittsburgh-pa-salary-money-diary   \n",
       "378          /en-us/client-manager-atlanta-ga-salary-money-diary   \n",
       "377    /en-us/client-solutions-minneapolis-mn-salary-money-diary   \n",
       "376       /en-us/clinical-analyst-bethesda-md-salary-money-diary   \n",
       "..                                                           ...   \n",
       "242  /en-us/management-consultant-new-york-ny-salary-money-diary   \n",
       "84     /en-us/san-francisco-senior-accountant-salary-money-diary   \n",
       "329        /en-us/design-engineer-san-jose-ca-salary-money-diary   \n",
       "430                 /en-us/attorney-boston-ma-salary-money-diary   \n",
       "288   /en-us/fort-lauderdale-florida-attorney-salary-money-diary   \n",
       "\n",
       "                     occupation  age    salary  nomad  international  \\\n",
       "387           Creative Director   31   87000.0      0              0   \n",
       "380         Claims Investigator   27   48000.0      0              0   \n",
       "378              Client Manager   30   72000.0      0              0   \n",
       "377  Client Solution Specialist   30   80000.0      0              0   \n",
       "376                     Analyst   31  110000.0      0              0   \n",
       "..                          ...  ...       ...    ...            ...   \n",
       "242       Management Consultant   31  230000.0      0              0   \n",
       "84            Senior Accountant   30  118000.0      0              0   \n",
       "329             Design Engineer   25  135000.0      0              0   \n",
       "430                    Attorney   28  190000.0      0              0   \n",
       "288                    Attorney   31  170000.0      0              0   \n",
       "\n",
       "     high_cost_of_living_area  Cluster  \n",
       "387                         1        0  \n",
       "380                         0        0  \n",
       "378                         0        0  \n",
       "377                         0        0  \n",
       "376                         0        0  \n",
       "..                        ...      ...  \n",
       "242                         1        4  \n",
       "84                          1        4  \n",
       "329                         1        4  \n",
       "430                         1        4  \n",
       "288                         0        4  \n",
       "\n",
       "[476 rows x 8 columns]"
      ]
     },
     "metadata": {},
     "output_type": "display_data"
    }
   ],
   "source": [
    "#Appending the identified clusters to the dataframe\n",
    "clustered_data_scaled = diarist_df.copy()\n",
    "clustered_data_scaled['Cluster'] = identified_clusters_scaled\n",
    "display(clustered_data_scaled.sort_values(by='Cluster'))"
   ]
  },
  {
   "cell_type": "code",
   "execution_count": 121,
   "metadata": {
    "ExecuteTime": {
     "end_time": "2020-08-19T02:26:03.027386Z",
     "start_time": "2020-08-19T02:26:03.019812Z"
    }
   },
   "outputs": [
    {
     "data": {
      "text/plain": [
       "2    210\n",
       "0    166\n",
       "4     50\n",
       "1     46\n",
       "3      4\n",
       "Name: Cluster, dtype: int64"
      ]
     },
     "execution_count": 121,
     "metadata": {},
     "output_type": "execute_result"
    }
   ],
   "source": [
    "# Look at how many diariests are in each cluster\n",
    "clustered_data_scaled.Cluster.value_counts()"
   ]
  },
  {
   "cell_type": "code",
   "execution_count": 158,
   "metadata": {
    "ExecuteTime": {
     "end_time": "2020-08-21T04:21:38.108055Z",
     "start_time": "2020-08-21T04:21:37.900676Z"
    }
   },
   "outputs": [
    {
     "data": {
      "text/plain": [
       "<matplotlib.collections.PathCollection at 0x7f9ca2061eb0>"
      ]
     },
     "execution_count": 158,
     "metadata": {},
     "output_type": "execute_result"
    },
    {
     "data": {
      "text/plain": [
       "<matplotlib.collections.PathCollection at 0x7f9ca275be20>"
      ]
     },
     "execution_count": 158,
     "metadata": {},
     "output_type": "execute_result"
    },
    {
     "data": {
      "image/png": "[encoded data removed]",
      "text/plain": [
       "<Figure size 432x288 with 1 Axes>"
      ]
     },
     "metadata": {
      "needs_background": "light"
     },
     "output_type": "display_data"
    }
   ],
   "source": [
    "# Visualize clusters and centers\n",
    "\n",
    "x=diarist_df_scaled.iloc[:, 0]\n",
    "y=diarist_df_scaled.iloc[:, 1]\n",
    "\n",
    "plt.scatter(x, y, c=identified_clusters_scaled, s=50, cmap='viridis')\n",
    "\n",
    "centers = kfit.cluster_centers_\n",
    "plt.scatter(centers[:, 0], centers[:, 1], c='black', s=200, alpha=0.5);"
   ]
  },
  {
   "cell_type": "markdown",
   "metadata": {},
   "source": [
    "## **Look at each cluster and name**"
   ]
  },
  {
   "cell_type": "code",
   "execution_count": 127,
   "metadata": {
    "ExecuteTime": {
     "end_time": "2020-08-20T20:43:31.374442Z",
     "start_time": "2020-08-20T20:43:31.362100Z"
    }
   },
   "outputs": [
    {
     "data": {
      "text/plain": [
       "34"
      ]
     },
     "execution_count": 127,
     "metadata": {},
     "output_type": "execute_result"
    },
    {
     "data": {
      "text/plain": [
       "26"
      ]
     },
     "execution_count": 127,
     "metadata": {},
     "output_type": "execute_result"
    },
    {
     "data": {
      "text/plain": [
       "63707.24698795181"
      ]
     },
     "execution_count": 127,
     "metadata": {},
     "output_type": "execute_result"
    },
    {
     "data": {
      "text/plain": [
       "26"
      ]
     },
     "execution_count": 127,
     "metadata": {},
     "output_type": "execute_result"
    }
   ],
   "source": [
    "# Cluster 0 = late 20s, average earners\n",
    "clustered_data_scaled[clustered_data_scaled['Cluster']==0].salary.mean()\n",
    "clustered_data_scaled[clustered_data_scaled['Cluster']==0].age.mean()\n",
    "clustered_data_scaled[clustered_data_scaled['Cluster']==0].age.min()\n",
    "clustered_data_scaled[clustered_data_scaled['Cluster']==0].age.max()"
   ]
  },
  {
   "cell_type": "code",
   "execution_count": 128,
   "metadata": {
    "ExecuteTime": {
     "end_time": "2020-08-20T20:43:34.897216Z",
     "start_time": "2020-08-20T20:43:34.884404Z"
    }
   },
   "outputs": [
    {
     "data": {
      "text/plain": [
       "85446.43478260869"
      ]
     },
     "execution_count": 128,
     "metadata": {},
     "output_type": "execute_result"
    },
    {
     "data": {
      "text/plain": [
       "37.17391304347826"
      ]
     },
     "execution_count": 128,
     "metadata": {},
     "output_type": "execute_result"
    },
    {
     "data": {
      "text/plain": [
       "33"
      ]
     },
     "execution_count": 128,
     "metadata": {},
     "output_type": "execute_result"
    },
    {
     "data": {
      "text/plain": [
       "57"
      ]
     },
     "execution_count": 128,
     "metadata": {},
     "output_type": "execute_result"
    }
   ],
   "source": [
    "# Cluster 1 = late 30's, mid-career earners\n",
    "clustered_data_scaled[clustered_data_scaled['Cluster']==1].salary.mean()\n",
    "clustered_data_scaled[clustered_data_scaled['Cluster']==1].age.mean()\n",
    "clustered_data_scaled[clustered_data_scaled['Cluster']==1].age.min()\n",
    "clustered_data_scaled[clustered_data_scaled['Cluster']==1].age.max()"
   ]
  },
  {
   "cell_type": "code",
   "execution_count": 129,
   "metadata": {
    "ExecuteTime": {
     "end_time": "2020-08-20T20:43:48.731153Z",
     "start_time": "2020-08-20T20:43:48.718360Z"
    }
   },
   "outputs": [
    {
     "data": {
      "text/plain": [
       "27"
      ]
     },
     "execution_count": 129,
     "metadata": {},
     "output_type": "execute_result"
    },
    {
     "data": {
      "text/plain": [
       "20"
      ]
     },
     "execution_count": 129,
     "metadata": {},
     "output_type": "execute_result"
    },
    {
     "data": {
      "text/plain": [
       "49991.514285714286"
      ]
     },
     "execution_count": 129,
     "metadata": {},
     "output_type": "execute_result"
    },
    {
     "data": {
      "text/plain": [
       "24.15714285714286"
      ]
     },
     "execution_count": 129,
     "metadata": {},
     "output_type": "execute_result"
    }
   ],
   "source": [
    "# Cluster 2 = early 20s, starting career earners\n",
    "clustered_data_scaled[clustered_data_scaled['Cluster']==2].salary.mean()\n",
    "clustered_data_scaled[clustered_data_scaled['Cluster']==2].age.mean()\n",
    "clustered_data_scaled[clustered_data_scaled['Cluster']==2].age.min()\n",
    "clustered_data_scaled[clustered_data_scaled['Cluster']==2].age.max()"
   ]
  },
  {
   "cell_type": "code",
   "execution_count": 130,
   "metadata": {
    "ExecuteTime": {
     "end_time": "2020-08-20T20:44:17.054198Z",
     "start_time": "2020-08-20T20:44:17.041682Z"
    }
   },
   "outputs": [
    {
     "data": {
      "text/plain": [
       "32"
      ]
     },
     "execution_count": 130,
     "metadata": {},
     "output_type": "execute_result"
    },
    {
     "data": {
      "text/plain": [
       "38"
      ]
     },
     "execution_count": 130,
     "metadata": {},
     "output_type": "execute_result"
    },
    {
     "data": {
      "text/plain": [
       "406250.0"
      ]
     },
     "execution_count": 130,
     "metadata": {},
     "output_type": "execute_result"
    },
    {
     "data": {
      "text/plain": [
       "34.5"
      ]
     },
     "execution_count": 130,
     "metadata": {},
     "output_type": "execute_result"
    }
   ],
   "source": [
    "# Cluster 3 = Super high earners (in mid 30s)\n",
    "clustered_data_scaled[clustered_data_scaled['Cluster']==3].salary.mean()\n",
    "clustered_data_scaled[clustered_data_scaled['Cluster']==3].age.mean()\n",
    "clustered_data_scaled[clustered_data_scaled['Cluster']==3].age.min()\n",
    "clustered_data_scaled[clustered_data_scaled['Cluster']==3].age.max()"
   ]
  },
  {
   "cell_type": "code",
   "execution_count": 131,
   "metadata": {
    "ExecuteTime": {
     "end_time": "2020-08-20T20:44:32.272899Z",
     "start_time": "2020-08-20T20:44:32.257860Z"
    }
   },
   "outputs": [
    {
     "data": {
      "text/plain": [
       "36"
      ]
     },
     "execution_count": 131,
     "metadata": {},
     "output_type": "execute_result"
    },
    {
     "data": {
      "text/plain": [
       "23"
      ]
     },
     "execution_count": 131,
     "metadata": {},
     "output_type": "execute_result"
    },
    {
     "data": {
      "text/plain": [
       "159662.22"
      ]
     },
     "execution_count": 131,
     "metadata": {},
     "output_type": "execute_result"
    },
    {
     "data": {
      "text/plain": [
       "28.58"
      ]
     },
     "execution_count": 131,
     "metadata": {},
     "output_type": "execute_result"
    }
   ],
   "source": [
    "# Cluster 4 = late 20s, high earners\n",
    "clustered_data_scaled[clustered_data_scaled['Cluster']==4].salary.mean()\n",
    "clustered_data_scaled[clustered_data_scaled['Cluster']==4].age.mean()\n",
    "clustered_data_scaled[clustered_data_scaled['Cluster']==4].age.min()\n",
    "clustered_data_scaled[clustered_data_scaled['Cluster']==4].age.max()"
   ]
  },
  {
   "cell_type": "code",
   "execution_count": 120,
   "metadata": {
    "ExecuteTime": {
     "end_time": "2020-08-19T02:09:03.866937Z",
     "start_time": "2020-08-19T02:09:03.853000Z"
    }
   },
   "outputs": [],
   "source": [
    "# # Pickle the clustered df\n",
    "# with open('clustered_data_scaled.pkl', 'wb') as f:\n",
    "#     pickle.dump(clustered_data_scaled, f)"
   ]
  }
 ],
 "metadata": {
  "kernelspec": {
   "display_name": "Python [conda env:metis] *",
   "language": "python",
   "name": "conda-env-metis-py"
  },
  "language_info": {
   "codemirror_mode": {
    "name": "ipython",
    "version": 3
   },
   "file_extension": ".py",
   "mimetype": "text/x-python",
   "name": "python",
   "nbconvert_exporter": "python",
   "pygments_lexer": "ipython3",
   "version": "3.8.3"
  },
  "toc": {
   "base_numbering": 1,
   "nav_menu": {},
   "number_sections": true,
   "sideBar": true,
   "skip_h1_title": false,
   "title_cell": "Table of Contents",
   "title_sidebar": "Contents",
   "toc_cell": false,
   "toc_position": {},
   "toc_section_display": true,
   "toc_window_display": false
  },
  "varInspector": {
   "cols": {
    "lenName": 16,
    "lenType": 16,
    "lenVar": 40
   },
   "kernels_config": {
    "python": {
     "delete_cmd_postfix": "",
     "delete_cmd_prefix": "del ",
     "library": "var_list.py",
     "varRefreshCmd": "print(var_dic_list())"
    },
    "r": {
     "delete_cmd_postfix": ") ",
     "delete_cmd_prefix": "rm(",
     "library": "var_list.r",
     "varRefreshCmd": "cat(var_dic_list()) "
    }
   },
   "types_to_exclude": [
    "module",
    "function",
    "builtin_function_or_method",
    "instance",
    "_Feature"
   ],
   "window_display": false
  }
 },
 "nbformat": 4,
 "nbformat_minor": 4
}
